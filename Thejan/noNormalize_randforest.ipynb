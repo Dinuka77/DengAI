{
 "cells": [
  {
   "cell_type": "code",
   "execution_count": 1,
   "metadata": {},
   "outputs": [
    {
     "name": "stderr",
     "output_type": "stream",
     "text": [
      "/home/thejan/anaconda2/lib/python2.7/site-packages/statsmodels/compat/pandas.py:56: FutureWarning: The pandas.core.datetools module is deprecated and will be removed in a future version. Please use the pandas.tseries module instead.\n",
      "  from pandas.core import datetools\n"
     ]
    }
   ],
   "source": [
    "%matplotlib inline\n",
    "\n",
    "from __future__ import print_function\n",
    "from __future__ import division\n",
    "\n",
    "import pandas as pd\n",
    "import numpy as np\n",
    "import math\n",
    "\n",
    "from matplotlib import pyplot as plt\n",
    "import seaborn as sn\n",
    "\n",
    "from sklearn.model_selection import train_test_split\n",
    "from sklearn.preprocessing import StandardScaler, MinMaxScaler\n",
    "\n",
    "import statsmodels.api as sm\n",
    "import statsmodels.formula.api as smf\n",
    "\n",
    "from scipy import stats\n",
    "\n",
    "from sklearn.ensemble import RandomForestRegressor\n",
    "\n",
    "# just for the sake of this blog post!\n",
    "from warnings import filterwarnings\n",
    "filterwarnings('ignore')"
   ]
  },
  {
   "cell_type": "code",
   "execution_count": 2,
   "metadata": {
    "collapsed": true
   },
   "outputs": [],
   "source": [
    "# remove correlated columns\n",
    "def drop_correlation(dataset, labels, threshold):\n",
    "    corr_total_cases = pd.concat([dataset, labels], axis=1).corr().total_cases.drop('total_cases')\n",
    "    col_corr = set() # Set of all the names of deleted columns\n",
    "    corr_matrix = dataset.corr()\n",
    "    for i in range(len(corr_matrix.columns)):\n",
    "        for j in range(i):\n",
    "            if np.absolute(corr_matrix.iloc[i, j]) >= threshold:\n",
    "                colname_i = corr_matrix.columns[i] # getting the name of column\n",
    "                colname_j = corr_matrix.columns[j]\n",
    "                if corr_total_cases[colname_i] < corr_total_cases[colname_j]:\n",
    "                    if colname_i in dataset.columns:\n",
    "                        del dataset[colname_i]\n",
    "                        col_corr.add(colname_i)\n",
    "                else:\n",
    "                    if colname_j in dataset.columns:\n",
    "                        del dataset[colname_j]\n",
    "                        col_corr.add(colname_j)"
   ]
  },
  {
   "cell_type": "code",
   "execution_count": 3,
   "metadata": {
    "collapsed": true
   },
   "outputs": [],
   "source": [
    "# plot heat map of dataset\n",
    "def plotHeatMap(dataset):\n",
    "    f,ax = plt.subplots(figsize=(18, 18))\n",
    "    sn.heatmap(dataset.corr(), annot=True, linewidths=.5, fmt= '.1f',ax=ax)"
   ]
  },
  {
   "cell_type": "code",
   "execution_count": 9,
   "metadata": {
    "scrolled": true
   },
   "outputs": [
    {
     "data": {
      "text/plain": [
       "(1456, 25)"
      ]
     },
     "execution_count": 9,
     "metadata": {},
     "output_type": "execute_result"
    }
   ],
   "source": [
    "filepath = '../dataset'\n",
    "X = pd.read_csv(filepath + '/dengue_features_train.csv')\n",
    "Y = pd.read_csv(filepath + '/dengue_labels_train.csv')\n",
    "T = pd.read_csv(filepath + '/dengue_features_test.csv')\n",
    "\n",
    "# concating total cases to train data frame - beacuse of issue in removing outliers\n",
    "X = pd.concat([Y['total_cases'], X], axis=1)\n",
    "\n",
    "X.shape"
   ]
  },
  {
   "cell_type": "code",
   "execution_count": 385,
   "metadata": {
    "collapsed": true
   },
   "outputs": [],
   "source": [
    "# drop columns having more than 10% NaN values\n",
    "NaNDic = (X.isnull().sum()*100/X.shape[0])>=10\n",
    "for i in X.columns.values:\n",
    "    if(NaNDic[i]):\n",
    "        X.drop(i,axis=1,inplace=True)\n",
    "        T.drop(i,axis=1,inplace=True)"
   ]
  },
  {
   "cell_type": "code",
   "execution_count": 386,
   "metadata": {
    "collapsed": true
   },
   "outputs": [],
   "source": [
    "# seperate into two cities\n",
    "X_sj = X[X['city'] == \"sj\"]\n",
    "X_iq = X[X['city'] == \"iq\"]\n",
    "T_sj = T[T['city'] == \"sj\"]\n",
    "T_iq = T[T['city'] == \"iq\"]\n",
    "# drop columns\n",
    "dropping_columns = ['city']\n",
    "X_sj = X_sj.drop(dropping_columns, axis=1)\n",
    "X_iq = X_iq.drop(dropping_columns, axis=1)\n",
    "T_sj = T_sj.drop(dropping_columns, axis=1)\n",
    "T_iq = T_iq.drop(dropping_columns, axis=1)\n",
    "# fill NaN values\n",
    "X_sj.interpolate(inplace=True)\n",
    "X_iq.interpolate(inplace=True)\n",
    "T_sj.interpolate(inplace=True)\n",
    "T_iq.interpolate(inplace=True)"
   ]
  },
  {
   "cell_type": "code",
   "execution_count": 387,
   "metadata": {
    "collapsed": true
   },
   "outputs": [],
   "source": [
    "# remove outliers\n",
    "X_sj = X_sj[(np.abs(stats.zscore(X_sj.drop(['year','weekofyear','week_start_date','total_cases'],axis=1))) < 5).all(axis=1)]\n",
    "X_iq = X_iq[(np.abs(stats.zscore(X_iq.drop(['year','weekofyear','week_start_date','total_cases'],axis=1))) < 5).all(axis=1)]"
   ]
  },
  {
   "cell_type": "code",
   "execution_count": 388,
   "metadata": {
    "collapsed": true,
    "scrolled": true
   },
   "outputs": [],
   "source": [
    "# sperating total_cases label again\n",
    "L_sj = pd.DataFrame(X_sj['total_cases'])\n",
    "L_iq = pd.DataFrame(X_iq['total_cases'])\n",
    "\n",
    "# drop total_cases and back X_sj,X_iq in dataset\n",
    "X_sj = X_sj.drop(['total_cases'],axis=1)\n",
    "X_iq = X_iq.drop(['total_cases'],axis=1)\n",
    "\n",
    "X_sj.drop(['year','week_start_date'], axis=1, inplace=True)\n",
    "X_iq.drop(['year','week_start_date'], axis=1, inplace=True)"
   ]
  },
  {
   "cell_type": "code",
   "execution_count": 389,
   "metadata": {
    "collapsed": true
   },
   "outputs": [],
   "source": [
    "# plotHeatMap(X_sj)\n",
    "drop_correlation(X_sj,L_sj,0.8)\n",
    "# plotHeatMap(X_sj)"
   ]
  },
  {
   "cell_type": "code",
   "execution_count": 390,
   "metadata": {},
   "outputs": [
    {
     "data": {
      "text/plain": [
       "<matplotlib.axes._subplots.AxesSubplot at 0x7fc81007e990>"
      ]
     },
     "execution_count": 390,
     "metadata": {},
     "output_type": "execute_result"
    },
    {
     "data": {
      "image/png": "[encoded data removed]",
      "text/plain": [
       "<matplotlib.figure.Figure at 0x7fc81007ef50>"
      ]
     },
     "metadata": {},
     "output_type": "display_data"
    }
   ],
   "source": [
    "sj_correlations = pd.concat([X_sj, L_sj], axis=1).corr().total_cases.drop('total_cases')\n",
    "sj_correlations.sort_values(ascending=False).plot.barh()"
   ]
  },
  {
   "cell_type": "code",
   "execution_count": 391,
   "metadata": {
    "collapsed": true,
    "scrolled": false
   },
   "outputs": [],
   "source": [
    "# plotHeatMap(X_iq)\n",
    "drop_correlation(X_iq,L_iq,0.7)\n",
    "# plotHeatMap(X_iq)"
   ]
  },
  {
   "cell_type": "code",
   "execution_count": 392,
   "metadata": {},
   "outputs": [
    {
     "data": {
      "text/plain": [
       "<matplotlib.axes._subplots.AxesSubplot at 0x7fc81675d090>"
      ]
     },
     "execution_count": 392,
     "metadata": {},
     "output_type": "execute_result"
    },
    {
     "data": {
      "image/png": "[encoded data removed]",
      "text/plain": [
       "<matplotlib.figure.Figure at 0x7fc8105486d0>"
      ]
     },
     "metadata": {},
     "output_type": "display_data"
    }
   ],
   "source": [
    "iq_correlations = pd.concat([X_iq, L_iq], axis=1).corr().total_cases.drop('total_cases')\n",
    "iq_correlations.sort_values(ascending=False).plot.barh()"
   ]
  },
  {
   "cell_type": "code",
   "execution_count": 393,
   "metadata": {
    "collapsed": true,
    "scrolled": true
   },
   "outputs": [],
   "source": [
    "X_sj_train = X_sj[['weekofyear', 'reanalysis_specific_humidity_g_per_kg', 'reanalysis_relative_humidity_percent', 'reanalysis_precip_amt_kg_per_m2', 'reanalysis_sat_precip_amt_mm']]\n",
    "X_iq_train = X_iq[['reanalysis_specific_humidity_g_per_kg', 'station_min_temp_c', 'station_avg_temp_c', 'reanalysis_precip_amt_kg_per_m2', 'reanalysis_air_temp_k']]\n",
    "\n",
    "X_sj_train_roll = pd.rolling_mean(X_sj_train,12)\n",
    "X_sj_train = pd.concat([X_sj_train[:11],X_sj_train_roll[11:]],axis=0)\n",
    "\n",
    "X_iq_train_roll = pd.rolling_mean(X_iq_train,12)\n",
    "X_iq_train = pd.concat([X_iq_train[:11],X_iq_train_roll[11:]],axis=0)"
   ]
  },
  {
   "cell_type": "code",
   "execution_count": 394,
   "metadata": {},
   "outputs": [
    {
     "data": {
      "text/plain": [
       "RandomForestRegressor(bootstrap=True, criterion='mse', max_depth=None,\n",
       "           max_features='auto', max_leaf_nodes=None,\n",
       "           min_impurity_decrease=0.0, min_impurity_split=None,\n",
       "           min_samples_leaf=1, min_samples_split=2,\n",
       "           min_weight_fraction_leaf=0.0, n_estimators=10000, n_jobs=1,\n",
       "           oob_score=False, random_state=None, verbose=0, warm_start=False)"
      ]
     },
     "execution_count": 394,
     "metadata": {},
     "output_type": "execute_result"
    }
   ],
   "source": [
    "forest_model_sj = RandomForestRegressor(n_estimators=10000)\n",
    "forest_model_sj.fit(X_sj_train, L_sj)\n",
    "\n",
    "forest_model_iq = RandomForestRegressor(n_estimators=10000)\n",
    "forest_model_iq.fit(X_iq_train, L_iq)"
   ]
  },
  {
   "cell_type": "code",
   "execution_count": 395,
   "metadata": {
    "collapsed": true
   },
   "outputs": [],
   "source": [
    "T_sj_predict = T_sj[['weekofyear', 'reanalysis_specific_humidity_g_per_kg', 'reanalysis_relative_humidity_percent', 'reanalysis_precip_amt_kg_per_m2', 'reanalysis_sat_precip_amt_mm']]\n",
    "T_iq_predict = T_iq[['reanalysis_specific_humidity_g_per_kg', 'station_min_temp_c', 'station_avg_temp_c', 'reanalysis_precip_amt_kg_per_m2', 'reanalysis_air_temp_k']]"
   ]
  },
  {
   "cell_type": "code",
   "execution_count": 396,
   "metadata": {
    "collapsed": true
   },
   "outputs": [],
   "source": [
    "forest_predict_sj = forest_model_sj.predict(T_sj_predict)\n",
    "forest_predict_iq = forest_model_iq.predict(T_iq_predict)"
   ]
  },
  {
   "cell_type": "code",
   "execution_count": 397,
   "metadata": {
    "collapsed": true
   },
   "outputs": [],
   "source": [
    "predict_list = list((forest_predict_sj).astype(int)) + list((forest_predict_iq).astype(int))"
   ]
  },
  {
   "cell_type": "code",
   "execution_count": 398,
   "metadata": {
    "collapsed": true
   },
   "outputs": [],
   "source": [
    "# forest_predict_frame = pd.DataFrame((forest_predict).astype(int))\n",
    "S = pd.read_csv(filepath + '/submission_format.csv')\n",
    "\n",
    "S['total_cases'] = predict_list\n",
    "\n",
    "S\n",
    "\n",
    "S.to_csv(filepath + '/forest_test_new.csv', index=False)"
   ]
  },
  {
   "cell_type": "code",
   "execution_count": null,
   "metadata": {
    "collapsed": true
   },
   "outputs": [],
   "source": []
  }
 ],
 "metadata": {
  "kernelspec": {
   "display_name": "Python 2",
   "language": "python",
   "name": "python2"
  },
  "language_info": {
   "codemirror_mode": {
    "name": "ipython",
    "version": 2
   },
   "file_extension": ".py",
   "mimetype": "text/x-python",
   "name": "python",
   "nbconvert_exporter": "python",
   "pygments_lexer": "ipython2",
   "version": "2.7.14"
  }
 },
 "nbformat": 4,
 "nbformat_minor": 2
}
