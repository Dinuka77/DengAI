{
 "cells": [
  {
   "cell_type": "markdown",
   "metadata": {},
   "source": [
    "## All Imports"
   ]
  },
  {
   "cell_type": "code",
   "execution_count": null,
   "metadata": {
    "collapsed": true
   },
   "outputs": [],
   "source": [
    "%matplotlib inline\n",
    "\n",
    "from __future__ import print_function\n",
    "from __future__ import division\n",
    "\n",
    "import pandas as pd\n",
    "import numpy as np\n",
    "\n",
    "from matplotlib import pyplot as plt\n",
    "import seaborn as sn\n",
    "\n",
    "from sklearn.model_selection import train_test_split\n",
    "from sklearn.preprocessing import StandardScaler, MinMaxScaler\n",
    "\n",
    "import statsmodels.api as sm\n",
    "\n",
    "# just for the sake of this blog post!\n",
    "from warnings import filterwarnings\n",
    "filterwarnings('ignore')"
   ]
  },
  {
   "cell_type": "markdown",
   "metadata": {},
   "source": [
    "## Reading Data and Test Sets"
   ]
  },
  {
   "cell_type": "code",
   "execution_count": null,
   "metadata": {
    "collapsed": true
   },
   "outputs": [],
   "source": [
    "filepath = 'dataset'\n",
    "X = pd.read_csv(filepath + '/dengue_features_train.csv')\n",
    "Y = pd.read_csv(filepath + '/dengue_labels_train.csv')\n",
    "T = pd.read_csv(filepath + '/dengue_features_test.csv')"
   ]
  },
  {
   "cell_type": "markdown",
   "metadata": {},
   "source": [
    "## Function  Definitions"
   ]
  },
  {
   "cell_type": "markdown",
   "metadata": {},
   "source": [
    "### Preprocess function 1"
   ]
  },
  {
   "cell_type": "raw",
   "metadata": {},
   "source": [
    "This function,\n",
    "    1. inputs a dataframe\n",
    "    2. encodes categorical column \"city\"\n",
    "    3. concats it to the dataframe\n",
    "    4. drops unwanted columns ['year','weekofyear','week_start_date','city']\n",
    "    5. fills NaN values\n",
    "    6. normalizes the data frame"
   ]
  },
  {
   "cell_type": "code",
   "execution_count": null,
   "metadata": {
    "collapsed": true
   },
   "outputs": [],
   "source": [
    "def preprocess1(data):\n",
    "    # y['city']=y['city'].map({'iq':1,'sj':0})  Ordinal\n",
    "    \n",
    "    # X = X.interpolate()\n",
    "    \n",
    "    # X[X.columns] = StandardScaler().fit_transform(X)\n",
    "\n",
    "    # encodes \"city column\"\n",
    "    city_features = pd.get_dummies(data['city'], prefix='city_')\n",
    "    # concats city_features to data\n",
    "    data = pd.concat([city_features, data], axis=1)\n",
    "    # drops columns\n",
    "    dropping_columns = ['year','weekofyear','week_start_date','city']\n",
    "    data = data.drop(dropping_columns, axis=1)\n",
    "    # fills NaN values\n",
    "    data.fillna(method='ffill', inplace=True) #bfill\n",
    "    # normalize\n",
    "    data[data.columns] = MinMaxScaler().fit_transform(data)\n",
    "    \n",
    "    return data"
   ]
  },
  {
   "cell_type": "markdown",
   "metadata": {},
   "source": [
    "### Remove correlated columns"
   ]
  },
  {
   "cell_type": "code",
   "execution_count": null,
   "metadata": {
    "collapsed": true
   },
   "outputs": [],
   "source": [
    "def correlation(dataset, threshold):\n",
    "    col_corr = set() # Set of all the names of deleted columns\n",
    "    corr_matrix = dataset.corr()\n",
    "    for i in range(len(corr_matrix.columns)):\n",
    "        for j in range(i):\n",
    "            if corr_matrix.iloc[i, j] >= threshold:\n",
    "                colname = corr_matrix.columns[i] # getting the name of column\n",
    "                col_corr.add(colname)\n",
    "                if colname in dataset.columns:\n",
    "                    del dataset[colname] # deleting the column from the dataset"
   ]
  },
  {
   "cell_type": "markdown",
   "metadata": {},
   "source": [
    "### Plot HeatMap of features"
   ]
  },
  {
   "cell_type": "code",
   "execution_count": null,
   "metadata": {
    "collapsed": true
   },
   "outputs": [],
   "source": [
    "def plotHeatMap(dataset):\n",
    "    f,ax = plt.subplots(figsize=(18, 18))\n",
    "    sn.heatmap(dataset.corr(), annot=True, linewidths=.5, fmt= '.1f',ax=ax)"
   ]
  }
 ],
 "metadata": {
  "kernelspec": {
   "display_name": "Python 2",
   "language": "python",
   "name": "python2"
  },
  "language_info": {
   "codemirror_mode": {
    "name": "ipython",
    "version": 2
   },
   "file_extension": ".py",
   "mimetype": "text/x-python",
   "name": "python",
   "nbconvert_exporter": "python",
   "pygments_lexer": "ipython2",
   "version": "2.7.14"
  }
 },
 "nbformat": 4,
 "nbformat_minor": 2
}
